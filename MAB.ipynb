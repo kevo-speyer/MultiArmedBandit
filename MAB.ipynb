{
 "cells": [
  {
   "cell_type": "markdown",
   "id": "54d46e33",
   "metadata": {},
   "source": [
    "# Spot the best shooter\n",
    "Data Science challenge to identify the best shooter using multi-armed bandit bayesian approach. The explotation vs exploratino tradeoff is controlled by the temperature which can be parametrized as a function of the round number."
   ]
  },
  {
   "cell_type": "code",
   "execution_count": 13,
   "id": "7105ae5c",
   "metadata": {},
   "outputs": [],
   "source": [
    "import numpy as np\n",
    "from scipy.stats import binom\n",
    "from scipy.special import gamma, betainc, comb\n",
    "from random import choices, random\n",
    "\n",
    "class Player:\n",
    "    def __init__(self, p=None, n_players=100, p_min=0, p_max=0.6, p_target=0.7):\n",
    "        self.n = self.k = 0\n",
    "        self.n_players = n_players\n",
    "        self.x0, self.x1  = p_min, p_max\n",
    "        self.prior = self.posterior = 1/self.n_players\n",
    "        self.p_target = p_target\n",
    "        self.set_succes_proba(p)\n",
    "        \n",
    "    def set_succes_proba(self, p):\n",
    "        if p:\n",
    "            self.p=p\n",
    "        else:\n",
    "            self.p = self.x0+np.random.random()*(self.x1-self.x0)\n",
    "            \n",
    "    def shoot(self):\n",
    "        self.k += np.random.binomial(1,self.p)\n",
    "        self.n += 1\n",
    "        self.update_posterior()\n",
    "    \n",
    "    def beteainc_diff(self, a, b, x0, x1):\n",
    "        return betainc(a, b, x1)-betainc(a, b, x0)\n",
    "        \n",
    "    def update_posterior(self):\n",
    "        \"\"\"Bayesian approach magic\"\"\"\n",
    "        \n",
    "        def beteainc_diff(a, b, x0, x1):\n",
    "            return betainc(a, b, x1)-betainc(a, b, x0)\n",
    "        \n",
    "        k, n, x0, x1 = self.k, self.n, self.x0, self.x1\n",
    "        binom_k_n_p = binom.pmf(k, n, self.p_target)\n",
    "        \n",
    "        self.posterior = binom_k_n_p * self.prior\n",
    "        den = self.prior * binom_k_n_p\n",
    "        den += (1-self.prior) * 1/(x1-x0) * 1/(n+1) * beteainc_diff(k+1, n-k+1, x0, x1)\n",
    "        self.posterior /= den\n"
   ]
  },
  {
   "cell_type": "code",
   "execution_count": 110,
   "id": "2b8376dc",
   "metadata": {},
   "outputs": [],
   "source": [
    "# Set problem parameters \n",
    "n_players = 100\n",
    "rounds = 14000\n",
    "min_p, max_p = 0.5, 0.6 # bounds for success rate of players\n",
    "target_p = max_p + 0.1 # succes rate for special player\n",
    "\n",
    "# Spawn Players\n",
    "players = [Player(n_players=n_players, p_min=min_p, p_max=max_p, p_target=target_p)\n",
    "           for _ in range(n_players)]\n",
    "\n",
    "# Choose special player\n",
    "players[0].set_succes_proba(target_p)\n",
    "\n",
    "# Run simulation\n",
    "for i_round in range(rounds):\n",
    "    temp = 1.25 - i_round/rounds * 1.24 # Explotation vs Exploration control\n",
    "    shooter = choices(players, weights=[np.exp(pl.posterior/temp) for pl in players]).pop() # choose shooter using softmax\n",
    "    shooter.shoot()\n",
    "\n",
    "# Choose our candidate based on maximum likelihood\n",
    "candidate = sorted(players, key= lambda x:x.posterior).pop()"
   ]
  },
  {
   "cell_type": "code",
   "execution_count": 111,
   "id": "204f1c43",
   "metadata": {},
   "outputs": [
    {
     "name": "stdout",
     "output_type": "stream",
     "text": [
      "Player was correclty identified!\n"
     ]
    }
   ],
   "source": [
    "if candidate.p == target_p:\n",
    "    print(\"Player was correclty identified!\")\n",
    "else:\n",
    "    print(f\"Player incorrectly selected, succes rate is {candidate.p}\")"
   ]
  },
  {
   "cell_type": "code",
   "execution_count": null,
   "id": "34af0646",
   "metadata": {},
   "outputs": [],
   "source": []
  }
 ],
 "metadata": {
  "kernelspec": {
   "display_name": "Python 3 (ipykernel)",
   "language": "python",
   "name": "python3"
  },
  "language_info": {
   "codemirror_mode": {
    "name": "ipython",
    "version": 3
   },
   "file_extension": ".py",
   "mimetype": "text/x-python",
   "name": "python",
   "nbconvert_exporter": "python",
   "pygments_lexer": "ipython3",
   "version": "3.8.10"
  }
 },
 "nbformat": 4,
 "nbformat_minor": 5
}
